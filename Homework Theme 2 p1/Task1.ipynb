{
 "cells": [
  {
   "cell_type": "code",
   "execution_count": 1,
   "id": "d29f4567-4bf7-4f07-93e3-05000ad45aef",
   "metadata": {},
   "outputs": [
    {
     "name": "stdin",
     "output_type": "stream",
     "text": [
      "Введите слово из латинских букв:  preparations\n"
     ]
    },
    {
     "name": "stdout",
     "output_type": "stream",
     "text": [
      "Средние буквы: ra\n"
     ]
    }
   ],
   "source": [
    "word = input(\"Введите слово из латинских букв: \")\n",
    "\n",
    "length = len(word)\n",
    "middle = length // 2\n",
    "\n",
    "if length % 2 == 0:\n",
    "    print(f\"Средние буквы: {word[middle-1:middle+1]}\")\n",
    "else:\n",
    "    print(f\"Средняя буква: {word[middle]}\")"
   ]
  },
  {
   "cell_type": "code",
   "execution_count": null,
   "id": "bad01bf5-7d75-4582-8a7d-7ea4fc6a05e3",
   "metadata": {},
   "outputs": [],
   "source": []
  }
 ],
 "metadata": {
  "kernelspec": {
   "display_name": "Python 3 (ipykernel)",
   "language": "python",
   "name": "python3"
  },
  "language_info": {
   "codemirror_mode": {
    "name": "ipython",
    "version": 3
   },
   "file_extension": ".py",
   "mimetype": "text/x-python",
   "name": "python",
   "nbconvert_exporter": "python",
   "pygments_lexer": "ipython3",
   "version": "3.13.0"
  }
 },
 "nbformat": 4,
 "nbformat_minor": 5
}
