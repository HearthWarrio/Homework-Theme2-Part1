{
 "cells": [
  {
   "cell_type": "code",
   "execution_count": 9,
   "id": "f9ad9e80-03e7-4bd8-9724-55d02eb85e0b",
   "metadata": {},
   "outputs": [
    {
     "name": "stdin",
     "output_type": "stream",
     "text": [
      "Введите пары мальчиков, в формате ['Peter', 'Alex', 'John', 'Arthur', 'Richard', 'Michael'] ['Peter', 'Alex', 'John', 'Arthur', 'Richard', 'Michael']\n",
      "Введите пары девочек, в формате ['Kate', 'Liza', 'Kira', 'Emma', 'Trisha'] ['Kate', 'Liza', 'Kira', 'Emma', 'Trisha']\n"
     ]
    },
    {
     "name": "stdout",
     "output_type": "stream",
     "text": [
      "Исходные списки:\n",
      "Юноши: ['Peter', 'Alex', 'John', 'Arthur', 'Richard', 'Michael']\n",
      "Девушки: ['Kate', 'Liza', 'Kira', 'Emma', 'Trisha']\n",
      "\n",
      "Результат:\n",
      "Извините, мы не можем никого познакомить, так как кто-то может остаться без пары.\n"
     ]
    }
   ],
   "source": [
    "boys = input(\"Введите пары мальчиков, в формате ['Peter', 'Alex', 'John', 'Arthur', 'Richard', 'Michael']\")\n",
    "girls = input(\"Введите пары девочек, в формате ['Kate', 'Liza', 'Kira', 'Emma', 'Trisha']\")\n",
    "\n",
    "print(\"Исходные списки:\")\n",
    "print(\"Юноши:\", boys)\n",
    "print(\"Девушки:\", girls)\n",
    "\n",
    "def create_pairs(boys, girls):\n",
    "    \n",
    "    if len(boys) != len(girls):\n",
    "        return \"Извините, мы не можем никого познакомить, так как кто-то может остаться без пары.\"\n",
    "    \n",
    "    sorted_boys = sorted(boys)\n",
    "    sorted_girls = sorted(girls)\n",
    "    \n",
    "    pairs = list(zip(sorted_boys, sorted_girls))\n",
    "    \n",
    "    return pairs\n",
    "\n",
    "result = create_pairs(boys, girls)\n",
    "\n",
    "if isinstance(result, str):\n",
    "    print(\"\\nРезультат:\")\n",
    "    print(result)\n",
    "else:\n",
    "    print(\"\\nСформированные пары:\")\n",
    "    for pair in result:\n",
    "        print(f\"{pair[0]} и {pair[1]}\")\n"
   ]
  },
  {
   "cell_type": "code",
   "execution_count": null,
   "id": "b1433955-4992-44d4-8bf0-d492805f1526",
   "metadata": {},
   "outputs": [],
   "source": []
  },
  {
   "cell_type": "code",
   "execution_count": null,
   "id": "84b9ff15-2868-45da-92f9-111f95e820c7",
   "metadata": {},
   "outputs": [],
   "source": []
  }
 ],
 "metadata": {
  "kernelspec": {
   "display_name": "Python 3 (ipykernel)",
   "language": "python",
   "name": "python3"
  },
  "language_info": {
   "codemirror_mode": {
    "name": "ipython",
    "version": 3
   },
   "file_extension": ".py",
   "mimetype": "text/x-python",
   "name": "python",
   "nbconvert_exporter": "python",
   "pygments_lexer": "ipython3",
   "version": "3.13.0"
  }
 },
 "nbformat": 4,
 "nbformat_minor": 5
}
